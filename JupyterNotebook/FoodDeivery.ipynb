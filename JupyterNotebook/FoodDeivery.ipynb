{
 "cells": [
  {
   "cell_type": "markdown",
   "metadata": {},
   "source": [
    "# Aim: Predicting Average Food Delivery Time of Restraunts to the given location"
   ]
  },
  {
   "cell_type": "code",
   "execution_count": 39,
   "metadata": {},
   "outputs": [],
   "source": [
    "import pandas as pd\n",
    "import numpy as np\n",
    "import warnings\n",
    "import itertools\n",
    "import re\n",
    "from sklearn import metrics\n",
    "from category_encoders import OrdinalEncoder\n",
    "from sklearn.preprocessing import LabelEncoder\n",
    "from matplotlib import pyplot as plt\n",
    "warnings.filterwarnings(\"ignore\")"
   ]
  },
  {
   "cell_type": "code",
   "execution_count": 2,
   "metadata": {},
   "outputs": [],
   "source": [
    "train = pd.read_excel(\"Data_Train.xlsx\")\n",
    "test = pd.read_excel(\"Data_Test.xlsx\")"
   ]
  },
  {
   "cell_type": "code",
   "execution_count": 3,
   "metadata": {},
   "outputs": [],
   "source": [
    "def dataset_info(df):\n",
    "    print(\"Shape of the dataset: \" + str(df.shape))\n",
    "    print(\"Displaying the dataset\")\n",
    "    display(df.head())\n",
    "    print(\"Unique Values in the Dataset are: \")\n",
    "    print(df.nunique())\n",
    "    print(\"Datatypes and Null Values of each column\")\n",
    "    print(df.info(null_counts=True, verbose=True))"
   ]
  },
  {
   "cell_type": "code",
   "execution_count": 4,
   "metadata": {
    "scrolled": false
   },
   "outputs": [
    {
     "name": "stdout",
     "output_type": "stream",
     "text": [
      "Shape of the dataset: (11094, 9)\n",
      "Displaying the dataset\n"
     ]
    },
    {
     "data": {
      "text/html": [
       "<div>\n",
       "<style scoped>\n",
       "    .dataframe tbody tr th:only-of-type {\n",
       "        vertical-align: middle;\n",
       "    }\n",
       "\n",
       "    .dataframe tbody tr th {\n",
       "        vertical-align: top;\n",
       "    }\n",
       "\n",
       "    .dataframe thead th {\n",
       "        text-align: right;\n",
       "    }\n",
       "</style>\n",
       "<table border=\"1\" class=\"dataframe\">\n",
       "  <thead>\n",
       "    <tr style=\"text-align: right;\">\n",
       "      <th></th>\n",
       "      <th>Restaurant</th>\n",
       "      <th>Location</th>\n",
       "      <th>Cuisines</th>\n",
       "      <th>Average_Cost</th>\n",
       "      <th>Minimum_Order</th>\n",
       "      <th>Rating</th>\n",
       "      <th>Votes</th>\n",
       "      <th>Reviews</th>\n",
       "      <th>Delivery_Time</th>\n",
       "    </tr>\n",
       "  </thead>\n",
       "  <tbody>\n",
       "    <tr>\n",
       "      <th>0</th>\n",
       "      <td>ID_6321</td>\n",
       "      <td>FTI College, Law College Road, Pune</td>\n",
       "      <td>Fast Food, Rolls, Burger, Salad, Wraps</td>\n",
       "      <td>₹200</td>\n",
       "      <td>₹50</td>\n",
       "      <td>3.5</td>\n",
       "      <td>12</td>\n",
       "      <td>4</td>\n",
       "      <td>30 minutes</td>\n",
       "    </tr>\n",
       "    <tr>\n",
       "      <th>1</th>\n",
       "      <td>ID_2882</td>\n",
       "      <td>Sector 3, Marathalli</td>\n",
       "      <td>Ice Cream, Desserts</td>\n",
       "      <td>₹100</td>\n",
       "      <td>₹50</td>\n",
       "      <td>3.5</td>\n",
       "      <td>11</td>\n",
       "      <td>4</td>\n",
       "      <td>30 minutes</td>\n",
       "    </tr>\n",
       "    <tr>\n",
       "      <th>2</th>\n",
       "      <td>ID_1595</td>\n",
       "      <td>Mumbai Central</td>\n",
       "      <td>Italian, Street Food, Fast Food</td>\n",
       "      <td>₹150</td>\n",
       "      <td>₹50</td>\n",
       "      <td>3.6</td>\n",
       "      <td>99</td>\n",
       "      <td>30</td>\n",
       "      <td>65 minutes</td>\n",
       "    </tr>\n",
       "    <tr>\n",
       "      <th>3</th>\n",
       "      <td>ID_5929</td>\n",
       "      <td>Sector 1, Noida</td>\n",
       "      <td>Mughlai, North Indian, Chinese</td>\n",
       "      <td>₹250</td>\n",
       "      <td>₹99</td>\n",
       "      <td>3.7</td>\n",
       "      <td>176</td>\n",
       "      <td>95</td>\n",
       "      <td>30 minutes</td>\n",
       "    </tr>\n",
       "    <tr>\n",
       "      <th>4</th>\n",
       "      <td>ID_6123</td>\n",
       "      <td>Rmz Centennial, I Gate, Whitefield</td>\n",
       "      <td>Cafe, Beverages</td>\n",
       "      <td>₹200</td>\n",
       "      <td>₹99</td>\n",
       "      <td>3.2</td>\n",
       "      <td>521</td>\n",
       "      <td>235</td>\n",
       "      <td>65 minutes</td>\n",
       "    </tr>\n",
       "  </tbody>\n",
       "</table>\n",
       "</div>"
      ],
      "text/plain": [
       "  Restaurant                             Location  \\\n",
       "0    ID_6321  FTI College, Law College Road, Pune   \n",
       "1    ID_2882                 Sector 3, Marathalli   \n",
       "2    ID_1595                       Mumbai Central   \n",
       "3    ID_5929                      Sector 1, Noida   \n",
       "4    ID_6123   Rmz Centennial, I Gate, Whitefield   \n",
       "\n",
       "                                 Cuisines Average_Cost Minimum_Order Rating  \\\n",
       "0  Fast Food, Rolls, Burger, Salad, Wraps         ₹200           ₹50    3.5   \n",
       "1                     Ice Cream, Desserts         ₹100           ₹50    3.5   \n",
       "2         Italian, Street Food, Fast Food         ₹150           ₹50    3.6   \n",
       "3          Mughlai, North Indian, Chinese         ₹250           ₹99    3.7   \n",
       "4                         Cafe, Beverages         ₹200           ₹99    3.2   \n",
       "\n",
       "  Votes Reviews Delivery_Time  \n",
       "0    12       4    30 minutes  \n",
       "1    11       4    30 minutes  \n",
       "2    99      30    65 minutes  \n",
       "3   176      95    30 minutes  \n",
       "4   521     235    65 minutes  "
      ]
     },
     "metadata": {},
     "output_type": "display_data"
    },
    {
     "name": "stdout",
     "output_type": "stream",
     "text": [
      "Unique Values in the Dataset are: \n",
      "Restaurant       7480\n",
      "Location           35\n",
      "Cuisines         2179\n",
      "Average_Cost       26\n",
      "Minimum_Order      18\n",
      "Rating             33\n",
      "Votes            1103\n",
      "Reviews           761\n",
      "Delivery_Time       7\n",
      "dtype: int64\n",
      "Datatypes and Null Values of each column\n",
      "<class 'pandas.core.frame.DataFrame'>\n",
      "RangeIndex: 11094 entries, 0 to 11093\n",
      "Data columns (total 9 columns):\n",
      "Restaurant       11094 non-null object\n",
      "Location         11094 non-null object\n",
      "Cuisines         11094 non-null object\n",
      "Average_Cost     11094 non-null object\n",
      "Minimum_Order    11094 non-null object\n",
      "Rating           11094 non-null object\n",
      "Votes            11094 non-null object\n",
      "Reviews          11094 non-null object\n",
      "Delivery_Time    11094 non-null object\n",
      "dtypes: object(9)\n",
      "memory usage: 780.1+ KB\n",
      "None\n"
     ]
    }
   ],
   "source": [
    "dataset_info(train)"
   ]
  },
  {
   "cell_type": "code",
   "execution_count": 5,
   "metadata": {},
   "outputs": [
    {
     "name": "stdout",
     "output_type": "stream",
     "text": [
      "Shape of the dataset: (2774, 8)\n",
      "Displaying the dataset\n"
     ]
    },
    {
     "data": {
      "text/html": [
       "<div>\n",
       "<style scoped>\n",
       "    .dataframe tbody tr th:only-of-type {\n",
       "        vertical-align: middle;\n",
       "    }\n",
       "\n",
       "    .dataframe tbody tr th {\n",
       "        vertical-align: top;\n",
       "    }\n",
       "\n",
       "    .dataframe thead th {\n",
       "        text-align: right;\n",
       "    }\n",
       "</style>\n",
       "<table border=\"1\" class=\"dataframe\">\n",
       "  <thead>\n",
       "    <tr style=\"text-align: right;\">\n",
       "      <th></th>\n",
       "      <th>Restaurant</th>\n",
       "      <th>Location</th>\n",
       "      <th>Cuisines</th>\n",
       "      <th>Average_Cost</th>\n",
       "      <th>Minimum_Order</th>\n",
       "      <th>Rating</th>\n",
       "      <th>Votes</th>\n",
       "      <th>Reviews</th>\n",
       "    </tr>\n",
       "  </thead>\n",
       "  <tbody>\n",
       "    <tr>\n",
       "      <th>0</th>\n",
       "      <td>ID_2842</td>\n",
       "      <td>Mico Layout, Stage 2, BTM Layout,Bangalore</td>\n",
       "      <td>North Indian, Chinese, Assamese</td>\n",
       "      <td>₹350</td>\n",
       "      <td>₹50</td>\n",
       "      <td>4.2</td>\n",
       "      <td>361</td>\n",
       "      <td>225</td>\n",
       "    </tr>\n",
       "    <tr>\n",
       "      <th>1</th>\n",
       "      <td>ID_730</td>\n",
       "      <td>Mico Layout, Stage 2, BTM Layout,Bangalore</td>\n",
       "      <td>Biryani, Kebab</td>\n",
       "      <td>₹100</td>\n",
       "      <td>₹50</td>\n",
       "      <td>NEW</td>\n",
       "      <td>-</td>\n",
       "      <td>-</td>\n",
       "    </tr>\n",
       "    <tr>\n",
       "      <th>2</th>\n",
       "      <td>ID_4620</td>\n",
       "      <td>Sector 1, Noida</td>\n",
       "      <td>Fast Food</td>\n",
       "      <td>₹100</td>\n",
       "      <td>₹50</td>\n",
       "      <td>3.6</td>\n",
       "      <td>36</td>\n",
       "      <td>16</td>\n",
       "    </tr>\n",
       "    <tr>\n",
       "      <th>3</th>\n",
       "      <td>ID_5470</td>\n",
       "      <td>Babarpur, New Delhi, Delhi</td>\n",
       "      <td>Mithai, North Indian, Chinese, Fast Food, Sout...</td>\n",
       "      <td>₹200</td>\n",
       "      <td>₹50</td>\n",
       "      <td>3.6</td>\n",
       "      <td>66</td>\n",
       "      <td>33</td>\n",
       "    </tr>\n",
       "    <tr>\n",
       "      <th>4</th>\n",
       "      <td>ID_3249</td>\n",
       "      <td>Sector 1, Noida</td>\n",
       "      <td>Chinese, Fast Food</td>\n",
       "      <td>₹150</td>\n",
       "      <td>₹50</td>\n",
       "      <td>2.9</td>\n",
       "      <td>38</td>\n",
       "      <td>14</td>\n",
       "    </tr>\n",
       "  </tbody>\n",
       "</table>\n",
       "</div>"
      ],
      "text/plain": [
       "  Restaurant                                    Location  \\\n",
       "0    ID_2842  Mico Layout, Stage 2, BTM Layout,Bangalore   \n",
       "1     ID_730  Mico Layout, Stage 2, BTM Layout,Bangalore   \n",
       "2    ID_4620                             Sector 1, Noida   \n",
       "3    ID_5470                  Babarpur, New Delhi, Delhi   \n",
       "4    ID_3249                             Sector 1, Noida   \n",
       "\n",
       "                                            Cuisines Average_Cost  \\\n",
       "0                    North Indian, Chinese, Assamese         ₹350   \n",
       "1                                     Biryani, Kebab         ₹100   \n",
       "2                                          Fast Food         ₹100   \n",
       "3  Mithai, North Indian, Chinese, Fast Food, Sout...         ₹200   \n",
       "4                                 Chinese, Fast Food         ₹150   \n",
       "\n",
       "  Minimum_Order Rating Votes Reviews  \n",
       "0           ₹50    4.2   361     225  \n",
       "1           ₹50    NEW     -       -  \n",
       "2           ₹50    3.6    36      16  \n",
       "3           ₹50    3.6    66      33  \n",
       "4           ₹50    2.9    38      14  "
      ]
     },
     "metadata": {},
     "output_type": "display_data"
    },
    {
     "name": "stdout",
     "output_type": "stream",
     "text": [
      "Unique Values in the Dataset are: \n",
      "Restaurant       2401\n",
      "Location           35\n",
      "Cuisines          881\n",
      "Average_Cost       19\n",
      "Minimum_Order       9\n",
      "Rating             30\n",
      "Votes             580\n",
      "Reviews           392\n",
      "dtype: int64\n",
      "Datatypes and Null Values of each column\n",
      "<class 'pandas.core.frame.DataFrame'>\n",
      "RangeIndex: 2774 entries, 0 to 2773\n",
      "Data columns (total 8 columns):\n",
      "Restaurant       2774 non-null object\n",
      "Location         2774 non-null object\n",
      "Cuisines         2774 non-null object\n",
      "Average_Cost     2774 non-null object\n",
      "Minimum_Order    2774 non-null object\n",
      "Rating           2774 non-null object\n",
      "Votes            2774 non-null object\n",
      "Reviews          2774 non-null object\n",
      "dtypes: object(8)\n",
      "memory usage: 173.5+ KB\n",
      "None\n"
     ]
    }
   ],
   "source": [
    "dataset_info(test)"
   ]
  },
  {
   "cell_type": "code",
   "execution_count": 6,
   "metadata": {},
   "outputs": [
    {
     "data": {
      "text/plain": [
       "set()"
      ]
     },
     "execution_count": 6,
     "metadata": {},
     "output_type": "execute_result"
    }
   ],
   "source": [
    "set(test['Location'].unique()) - set(train['Location'].unique())"
   ]
  },
  {
   "cell_type": "markdown",
   "metadata": {},
   "source": [
    "No New Address in the test data."
   ]
  },
  {
   "cell_type": "code",
   "execution_count": 7,
   "metadata": {},
   "outputs": [],
   "source": [
    "def rupee_to_integer(df, column):\n",
    "    df[column] = df[column].apply(lambda x: re.sub(\"[^0-9]\", \"\", str(x)))\n",
    "    df[column][df[column]==\"\"] = -1\n",
    "    df[column] = df[column].astype(int)\n",
    "    df[column][df[column]==-1] = train[column].median()\n",
    "    return df\n",
    "\n",
    "def preprocessing(df):\n",
    "    df = rupee_to_integer(df, 'Average_Cost')\n",
    "    df = rupee_to_integer(df, 'Minimum_Order')\n",
    "    df['Rating'][df['Rating'].isin([\"Opening Soon\",\"NEW\", \"-\", \"Temporarily Closed\"])] = -99\n",
    "    df['Rating']=df['Rating'].astype(\"float64\")\n",
    "    df['Votes'][df['Votes']== \"-\"] = -99\n",
    "    df['Votes']=df['Votes'].astype(\"int64\")\n",
    "    df['Reviews'][df['Reviews']== \"-\"] = -99\n",
    "    df['Reviews']=df['Reviews'].astype(\"int64\")\n",
    "    return df"
   ]
  },
  {
   "cell_type": "code",
   "execution_count": 8,
   "metadata": {},
   "outputs": [],
   "source": [
    "train = preprocessing(train)\n",
    "test = preprocessing(test)"
   ]
  },
  {
   "cell_type": "code",
   "execution_count": 9,
   "metadata": {},
   "outputs": [
    {
     "name": "stdout",
     "output_type": "stream",
     "text": [
      "Mico Layout, Stage 2, BTM Layout,Bangalore\n",
      "Sector 1, Noida\n",
      "Babarpur, New Delhi, Delhi\n",
      "Yerawada, Pune, Maharashtra\n",
      "Raja Bazar, Kolkata\n",
      "Sector 3, Marathalli\n",
      "D-Block, Sector 63, Noida\n",
      "Delhi University-GTB Nagar\n",
      "Delhi High Court, India Gate\n",
      "BTM Layout 1, Electronic City\n",
      "Sector 14, Noida\n",
      "Laxman Vihar Industrial Area, Sector 3A, Gurgoan\n",
      "FTI College, Law College Road, Pune\n",
      "Sandhurst Road, Mumbai CST Area\n",
      "Nathan Road, Mangaldas Road, Pune\n",
      "Majestic\n",
      "Dockyard Road, Mumbai CST Area\n",
      "Delhi Cantt.\n",
      "Mumbai Central\n",
      "Tiretti, Kolkata\n",
      "Sector 63A,Gurgaon\n",
      "Rmz Centennial, I Gate, Whitefield\n",
      "MG Road, Pune\n",
      "Tejas Nagar Colony, Wadala West, Mumbai\n",
      "Moulali, Kolkata\n",
      "Delhi Administration Flats, Timarpur\n",
      "Chandni Chowk, Kolkata\n",
      "Musi Nagar, Malakpet, Hyderabad\n",
      "Pune University\n",
      "Panjetan Colony, Malakpet, Hyderabad\n",
      "Chatta Bazaar, Malakpet, Hyderabad\n",
      "Jaya Nagar, Saidabad, Hyderabad\n",
      "Gora Bazar, Rajbari, North Dumdum, Kolkata\n",
      "Hyderabad Public School, Begumpet\n",
      "Noorkhan Bazaar, Malakpet, Hyderabad\n"
     ]
    }
   ],
   "source": [
    "for i in test['Location'].unique():\n",
    "    print(i)"
   ]
  },
  {
   "cell_type": "markdown",
   "metadata": {},
   "source": [
    "Extract city from address. Other than Bangalore every other address have city name present in it"
   ]
  },
  {
   "cell_type": "code",
   "execution_count": 10,
   "metadata": {},
   "outputs": [],
   "source": [
    "def find_city_in_address(address):\n",
    "    cities_to_check = ['pune', 'mumbai', 'noida', 'delhi', 'kolkata', 'bangalore', 'gurgoan', 'hyderabad']\n",
    "    present_city=\"bangalore\"\n",
    "    for city in cities_to_check:\n",
    "        if city in address.lower():\n",
    "            present_city = city\n",
    "    return present_city"
   ]
  },
  {
   "cell_type": "code",
   "execution_count": 11,
   "metadata": {},
   "outputs": [],
   "source": [
    "train['city'] = train['Location'].apply(find_city_in_address)\n",
    "test['city'] = test['Location'].apply(find_city_in_address)"
   ]
  },
  {
   "cell_type": "markdown",
   "metadata": {},
   "source": [
    "*It seems that restraunt which have multiple branches have marked under the sameId's"
   ]
  },
  {
   "cell_type": "code",
   "execution_count": 13,
   "metadata": {},
   "outputs": [
    {
     "name": "stdout",
     "output_type": "stream",
     "text": [
      "Number of New Restraunts in test data: 1181\n"
     ]
    }
   ],
   "source": [
    "print(\"Number of New Restraunts in test data: \" + str(len(set(test['Restaurant'].unique()) - set(train['Restaurant'].unique()))))"
   ]
  },
  {
   "cell_type": "code",
   "execution_count": 14,
   "metadata": {},
   "outputs": [],
   "source": [
    "test['Delivery_Time'] = -1"
   ]
  },
  {
   "cell_type": "code",
   "execution_count": 15,
   "metadata": {},
   "outputs": [],
   "source": [
    "total_df = pd.concat([train,test])\n",
    "total_df = total_df.reset_index(drop=True)"
   ]
  },
  {
   "cell_type": "code",
   "execution_count": 16,
   "metadata": {},
   "outputs": [],
   "source": [
    "#Number of restraunts available at each location.\n",
    "total_df['restaraunt_counts'] = total_df['Location'].map(total_df.groupby(['Location'])['Restaurant'].count())\n",
    "#Number of location served by each parent restraunt\n",
    "total_df['location_count'] = total_df['Restaurant'].map(total_df.groupby(['Restaurant'])['Location'].count())"
   ]
  },
  {
   "cell_type": "code",
   "execution_count": 17,
   "metadata": {},
   "outputs": [],
   "source": [
    "#Individual restraunt Id's\n",
    "total_df['new_id'] = total_df.groupby(['Restaurant', 'Cuisines', 'Rating', 'Votes', 'Reviews'], sort=False).ngroup() + 1"
   ]
  },
  {
   "cell_type": "code",
   "execution_count": 18,
   "metadata": {},
   "outputs": [],
   "source": [
    "#Number of restraunts available at each location.\n",
    "total_df['unique_restaraunt_counts'] = total_df['Location'].map(total_df.groupby(['Location'])['Restaurant'].count())\n",
    "#Number of location served by each parent restraunt\n",
    "total_df['unique_location_count'] = total_df['Restaurant'].map(total_df.groupby(['Restaurant'])['Location'].count())"
   ]
  },
  {
   "cell_type": "code",
   "execution_count": 19,
   "metadata": {
    "scrolled": true
   },
   "outputs": [
    {
     "data": {
      "text/plain": [
       "1758"
      ]
     },
     "execution_count": 19,
     "metadata": {},
     "output_type": "execute_result"
    }
   ],
   "source": [
    "len(total_df['Restaurant'][total_df['Rating'].isin([-99])].unique())"
   ]
  },
  {
   "cell_type": "markdown",
   "metadata": {},
   "source": [
    "*1758 restaurants have No ratings here. # We can handle some them by copying data from parent restraunt.*"
   ]
  },
  {
   "cell_type": "code",
   "execution_count": 20,
   "metadata": {
    "scrolled": true
   },
   "outputs": [],
   "source": [
    "total_df['Rating'][total_df['Rating']==-99] = total_df['Restaurant'][total_df['Rating']==-99].map(total_df[['Restaurant', 'Rating']][total_df['Rating']!=-99].groupby(['Restaurant'])['Rating'].mean()).fillna(-99)\n",
    "total_df['Votes'][total_df['Votes']==-99] = total_df['Restaurant'][total_df['Votes']==-99].map(total_df[['Restaurant', 'Votes']][total_df['Votes']!=-99].groupby(['Restaurant'])['Votes'].median()).fillna(-99)\n",
    "total_df['Reviews'][total_df['Reviews']==-99] = total_df['Restaurant'][total_df['Reviews']==-99].map(total_df[['Restaurant', 'Reviews']][total_df['Reviews']!=-99].groupby(['Restaurant'])['Reviews'].median()).fillna(-99)"
   ]
  },
  {
   "cell_type": "code",
   "execution_count": 21,
   "metadata": {},
   "outputs": [
    {
     "name": "stdout",
     "output_type": "stream",
     "text": [
      "Total Number of Cusine variety available: 101\n"
     ]
    }
   ],
   "source": [
    "overll_food_available = (total_df['Cuisines'].apply(lambda x: (x.split(\", \"))).to_list())\n",
    "print(\"Total Number of Cusine variety available: \" + str(len(set(list(itertools.chain.from_iterable(overll_food_available))))))                          "
   ]
  },
  {
   "cell_type": "code",
   "execution_count": 22,
   "metadata": {},
   "outputs": [],
   "source": [
    "cusine_list = list(set(list(itertools.chain.from_iterable(overll_food_available))))"
   ]
  },
  {
   "cell_type": "code",
   "execution_count": 23,
   "metadata": {},
   "outputs": [],
   "source": [
    "cusine_column_dict={}\n",
    "for index, value in enumerate(cusine_list):\n",
    "    cusine_column_dict[value] = index"
   ]
  },
  {
   "cell_type": "code",
   "execution_count": 24,
   "metadata": {},
   "outputs": [],
   "source": [
    "def one_hot_cusine(x):\n",
    "    x = x.split(\", \")\n",
    "    return_cusine_list = ([0]*101)\n",
    "    for cusine in x:\n",
    "        return_cusine_list[cusine_column_dict[cusine]]=1\n",
    "    return return_cusine_list\n",
    "total_df['cusine_before_one_hot'] = total_df['Cuisines'].apply(one_hot_cusine)"
   ]
  },
  {
   "cell_type": "code",
   "execution_count": 25,
   "metadata": {},
   "outputs": [],
   "source": [
    "total_df[cusine_list] = pd.DataFrame(total_df.cusine_before_one_hot.values.tolist(), index= total_df.index)"
   ]
  },
  {
   "cell_type": "code",
   "execution_count": 26,
   "metadata": {},
   "outputs": [],
   "source": [
    "del total_df['cusine_before_one_hot']"
   ]
  },
  {
   "cell_type": "code",
   "execution_count": 27,
   "metadata": {},
   "outputs": [],
   "source": [
    "total_df['Number_of_cusines_available'] = total_df['Cuisines'].apply(lambda x: len(x.split(\", \")))"
   ]
  },
  {
   "cell_type": "code",
   "execution_count": 28,
   "metadata": {},
   "outputs": [],
   "source": [
    "total_df['rid'] = total_df['Restaurant'].str[3:].astype(int)"
   ]
  },
  {
   "cell_type": "code",
   "execution_count": 29,
   "metadata": {},
   "outputs": [],
   "source": [
    "ordinal_columns = ['Cuisines', 'Location', 'Restaurant', 'city']"
   ]
  },
  {
   "cell_type": "code",
   "execution_count": 30,
   "metadata": {},
   "outputs": [],
   "source": [
    "ordinal_encoder = OrdinalEncoder()\n",
    "total_df[ordinal_columns] = ordinal_encoder.fit_transform(total_df[ordinal_columns])"
   ]
  },
  {
   "cell_type": "code",
   "execution_count": 31,
   "metadata": {},
   "outputs": [
    {
     "name": "stdout",
     "output_type": "stream",
     "text": [
      "<class 'pandas.core.frame.DataFrame'>\n",
      "RangeIndex: 13868 entries, 0 to 13867\n",
      "Data columns (total 118 columns):\n",
      "Average_Cost                   13868 non-null int32\n",
      "Cuisines                       13868 non-null int32\n",
      "Delivery_Time                  13868 non-null object\n",
      "Location                       13868 non-null int32\n",
      "Minimum_Order                  13868 non-null int32\n",
      "Rating                         13868 non-null float64\n",
      "Restaurant                     13868 non-null int32\n",
      "Reviews                        13868 non-null float64\n",
      "Votes                          13868 non-null float64\n",
      "city                           13868 non-null int32\n",
      "restaraunt_counts              13868 non-null int64\n",
      "location_count                 13868 non-null int64\n",
      "new_id                         13868 non-null int64\n",
      "unique_restaraunt_counts       13868 non-null int64\n",
      "unique_location_count          13868 non-null int64\n",
      "Indonesian                     13868 non-null int64\n",
      "Mediterranean                  13868 non-null int64\n",
      "Greek                          13868 non-null int64\n",
      "Coffee                         13868 non-null int64\n",
      "Tex-Mex                        13868 non-null int64\n",
      "Lucknowi                       13868 non-null int64\n",
      "Vietnamese                     13868 non-null int64\n",
      "Thai                           13868 non-null int64\n",
      "Parsi                          13868 non-null int64\n",
      "Italian                        13868 non-null int64\n",
      "Iranian                        13868 non-null int64\n",
      "Israeli                        13868 non-null int64\n",
      "Rolls                          13868 non-null int64\n",
      "Turkish                        13868 non-null int64\n",
      "Assamese                       13868 non-null int64\n",
      "Nepalese                       13868 non-null int64\n",
      "Rajasthani                     13868 non-null int64\n",
      "Tamil                          13868 non-null int64\n",
      "Indian                         13868 non-null int64\n",
      "Bengali                        13868 non-null int64\n",
      "Ice Cream                      13868 non-null int64\n",
      "Arabian                        13868 non-null int64\n",
      "Chettinad                      13868 non-null int64\n",
      "Bihari                         13868 non-null int64\n",
      "Seafood                        13868 non-null int64\n",
      "Goan                           13868 non-null int64\n",
      "Sri Lankan                     13868 non-null int64\n",
      "Poké                           13868 non-null int64\n",
      "Juices                         13868 non-null int64\n",
      "Belgian                        13868 non-null int64\n",
      "Asian                          13868 non-null int64\n",
      "Paan                           13868 non-null int64\n",
      "Frozen Yogurt                  13868 non-null int64\n",
      "Afghan                         13868 non-null int64\n",
      "Beverages                      13868 non-null int64\n",
      "Maharashtrian                  13868 non-null int64\n",
      "Charcoal Chicken               13868 non-null int64\n",
      "Bubble Tea                     13868 non-null int64\n",
      "Salad                          13868 non-null int64\n",
      "Raw Meats                      13868 non-null int64\n",
      "Sandwich                       13868 non-null int64\n",
      "Cantonese                      13868 non-null int64\n",
      "Andhra                         13868 non-null int64\n",
      "Wraps                          13868 non-null int64\n",
      "German                         13868 non-null int64\n",
      "Fast Food                      13868 non-null int64\n",
      "Korean                         13868 non-null int64\n",
      "Middle Eastern                 13868 non-null int64\n",
      "Burger                         13868 non-null int64\n",
      "Tibetan                        13868 non-null int64\n",
      "Malwani                        13868 non-null int64\n",
      "Hyderabadi                     13868 non-null int64\n",
      "Mughlai                        13868 non-null int64\n",
      "Gujarati                       13868 non-null int64\n",
      "Awadhi                         13868 non-null int64\n",
      "Kebab                          13868 non-null int64\n",
      "Sushi                          13868 non-null int64\n",
      "Malaysian                      13868 non-null int64\n",
      "Hot dogs                       13868 non-null int64\n",
      "African                        13868 non-null int64\n",
      "Naga                           13868 non-null int64\n",
      "South Indian                   13868 non-null int64\n",
      "North Eastern                  13868 non-null int64\n",
      "Biryani                        13868 non-null int64\n",
      "BBQ                            13868 non-null int64\n",
      "Momos                          13868 non-null int64\n",
      "Tea                            13868 non-null int64\n",
      "Bangladeshi                    13868 non-null int64\n",
      "Modern Indian                  13868 non-null int64\n",
      "Mishti                         13868 non-null int64\n",
      "Bakery                         13868 non-null int64\n",
      "Mithai                         13868 non-null int64\n",
      "Desserts                       13868 non-null int64\n",
      "Kerala                         13868 non-null int64\n",
      "Mangalorean                    13868 non-null int64\n",
      "Bar Food                       13868 non-null int64\n",
      "Continental                    13868 non-null int64\n",
      "Cafe                           13868 non-null int64\n",
      "North Indian                   13868 non-null int64\n",
      "Mexican                        13868 non-null int64\n",
      "Steak                          13868 non-null int64\n",
      "Roast Chicken                  13868 non-null int64\n",
      "Healthy Food                   13868 non-null int64\n",
      "Pizza                          13868 non-null int64\n",
      "Brazilian                      13868 non-null int64\n",
      "South American                 13868 non-null int64\n",
      "Odia                           13868 non-null int64\n",
      "Burmese                        13868 non-null int64\n",
      "Konkan                         13868 non-null int64\n",
      "Chinese                        13868 non-null int64\n",
      "Japanese                       13868 non-null int64\n",
      "Bohri                          13868 non-null int64\n",
      "Street Food                    13868 non-null int64\n",
      "American                       13868 non-null int64\n",
      "Kashmiri                       13868 non-null int64\n",
      "French                         13868 non-null int64\n",
      "Finger Food                    13868 non-null int64\n",
      "European                       13868 non-null int64\n",
      "Spanish                        13868 non-null int64\n",
      "Portuguese                     13868 non-null int64\n",
      "Lebanese                       13868 non-null int64\n",
      "Number_of_cusines_available    13868 non-null int64\n",
      "rid                            13868 non-null int32\n",
      "dtypes: float64(3), int32(7), int64(107), object(1)\n",
      "memory usage: 12.1+ MB\n"
     ]
    }
   ],
   "source": [
    "total_df.info(null_counts=True, verbose=True)"
   ]
  },
  {
   "cell_type": "code",
   "execution_count": 32,
   "metadata": {},
   "outputs": [],
   "source": [
    "total_df_columns = total_df.columns.to_list()\n",
    "for index,column in enumerate(total_df_columns):\n",
    "    total_df_columns[index] = re.sub(r'[^\\x00-\\x7F]+',' ', column)\n",
    "total_df.columns = total_df_columns"
   ]
  },
  {
   "cell_type": "code",
   "execution_count": 33,
   "metadata": {},
   "outputs": [],
   "source": [
    "train = total_df[total_df['Delivery_Time']!=-1]\n",
    "test = total_df[total_df['Delivery_Time']==-1]\n",
    "del test['Delivery_Time']"
   ]
  },
  {
   "cell_type": "code",
   "execution_count": 34,
   "metadata": {},
   "outputs": [],
   "source": [
    "label_encoder = LabelEncoder()\n",
    "train['Delivery_Time'] = label_encoder.fit_transform(train['Delivery_Time'])"
   ]
  },
  {
   "cell_type": "code",
   "execution_count": 35,
   "metadata": {},
   "outputs": [],
   "source": [
    "X = train.drop(['Delivery_Time'], axis=1)\n",
    "y = train['Delivery_Time']"
   ]
  },
  {
   "cell_type": "code",
   "execution_count": 36,
   "metadata": {},
   "outputs": [],
   "source": [
    "from lightgbm import LGBMClassifier\n",
    "from sklearn.model_selection import StratifiedKFold,train_test_split\n",
    "from sklearn.linear_model import LogisticRegression\n",
    "from sklearn.ensemble import RandomForestClassifier\n",
    "from sklearn.metrics import accuracy_score,confusion_matrix,roc_auc_score"
   ]
  },
  {
   "cell_type": "code",
   "execution_count": 40,
   "metadata": {},
   "outputs": [
    {
     "data": {
      "text/plain": [
       "<matplotlib.axes._subplots.AxesSubplot at 0x15102b446a0>"
      ]
     },
     "execution_count": 40,
     "metadata": {},
     "output_type": "execute_result"
    },
    {
     "data": {
      "image/png": "[encoded data removed]",
      "text/plain": [
       "<Figure size 432x288 with 1 Axes>"
      ]
     },
     "metadata": {
      "needs_background": "light"
     },
     "output_type": "display_data"
    }
   ],
   "source": [
    "#Observing the Distribution of Classes\n",
    "y.value_counts().plot.bar()"
   ]
  },
  {
   "cell_type": "code",
   "execution_count": 37,
   "metadata": {},
   "outputs": [],
   "source": [
    "#Using Imblearn random oversampling for balancing out the classes.\n",
    "from imblearn.over_sampling import RandomOverSampler\n",
    "ros = RandomOverSampler(random_state=0)"
   ]
  },
  {
   "cell_type": "markdown",
   "metadata": {},
   "source": [
    "# 10 Fold Cross Validation for LightGBM"
   ]
  },
  {
   "cell_type": "code",
   "execution_count": 69,
   "metadata": {
    "scrolled": false
   },
   "outputs": [
    {
     "name": "stdout",
     "output_type": "stream",
     "text": [
      "Training until validation scores don't improve for 200 rounds\n",
      "[200]\tvalid_0's multi_logloss: 0.841607\n",
      "[400]\tvalid_0's multi_logloss: 0.735276\n",
      "[600]\tvalid_0's multi_logloss: 0.699874\n",
      "[800]\tvalid_0's multi_logloss: 0.680335\n",
      "[1000]\tvalid_0's multi_logloss: 0.667256\n",
      "[1200]\tvalid_0's multi_logloss: 0.655379\n",
      "[1400]\tvalid_0's multi_logloss: 0.645235\n",
      "[1600]\tvalid_0's multi_logloss: 0.635967\n",
      "[1800]\tvalid_0's multi_logloss: 0.628316\n",
      "[2000]\tvalid_0's multi_logloss: 0.622593\n",
      "[2200]\tvalid_0's multi_logloss: 0.616424\n",
      "[2400]\tvalid_0's multi_logloss: 0.613924\n",
      "[2600]\tvalid_0's multi_logloss: 0.611349\n",
      "[2800]\tvalid_0's multi_logloss: 0.609765\n",
      "[3000]\tvalid_0's multi_logloss: 0.609141\n",
      "Did not meet early stopping. Best iteration is:\n",
      "[2920]\tvalid_0's multi_logloss: 0.609034\n",
      "[3 3 3 ... 3 3 3]\n",
      "Accuracy:  0.7987421383647799\n",
      "Confusion Matrix: \n",
      "[[  0   0   0   1   0   0   0]\n",
      " [  0   4   0   2   0   1   0]\n",
      " [  0   0   0   1   1   0   0]\n",
      " [  0   0   0 663  69   9   0]\n",
      " [  0   0   0  67 182  18   0]\n",
      " [  0   0   0  16  38  39   0]\n",
      " [  0   0   0   0   0   1   1]]\n",
      "Training until validation scores don't improve for 200 rounds\n",
      "[200]\tvalid_0's multi_logloss: 0.824438\n",
      "[400]\tvalid_0's multi_logloss: 0.712359\n",
      "[600]\tvalid_0's multi_logloss: 0.672005\n",
      "[800]\tvalid_0's multi_logloss: 0.645588\n",
      "[1000]\tvalid_0's multi_logloss: 0.626823\n",
      "[1200]\tvalid_0's multi_logloss: 0.611328\n",
      "[1400]\tvalid_0's multi_logloss: 0.596847\n",
      "[1600]\tvalid_0's multi_logloss: 0.584502\n",
      "[1800]\tvalid_0's multi_logloss: 0.575649\n",
      "[2000]\tvalid_0's multi_logloss: 0.569327\n",
      "[2200]\tvalid_0's multi_logloss: 0.564211\n",
      "[2400]\tvalid_0's multi_logloss: 0.559139\n",
      "[2600]\tvalid_0's multi_logloss: 0.556644\n",
      "[2800]\tvalid_0's multi_logloss: 0.555266\n",
      "[3000]\tvalid_0's multi_logloss: 0.553534\n",
      "Did not meet early stopping. Best iteration is:\n",
      "[2988]\tvalid_0's multi_logloss: 0.553482\n",
      "[4 3 3 ... 3 3 3]\n",
      "Accuracy:  0.8111510791366906\n",
      "Confusion Matrix: \n",
      "[[  6   0   0   0   1   0]\n",
      " [  0   0   1   1   0   0]\n",
      " [  1   0 675  58   7   0]\n",
      " [  0   0  72 173  22   0]\n",
      " [  0   0  23  23  47   0]\n",
      " [  0   0   0   1   0   1]]\n",
      "Training until validation scores don't improve for 200 rounds\n",
      "[200]\tvalid_0's multi_logloss: 0.804427\n",
      "[400]\tvalid_0's multi_logloss: 0.692123\n",
      "[600]\tvalid_0's multi_logloss: 0.653082\n",
      "[800]\tvalid_0's multi_logloss: 0.630248\n",
      "[1000]\tvalid_0's multi_logloss: 0.613975\n",
      "[1200]\tvalid_0's multi_logloss: 0.601701\n",
      "[1400]\tvalid_0's multi_logloss: 0.589816\n",
      "[1600]\tvalid_0's multi_logloss: 0.580285\n",
      "[1800]\tvalid_0's multi_logloss: 0.571522\n",
      "[2000]\tvalid_0's multi_logloss: 0.562298\n",
      "[2200]\tvalid_0's multi_logloss: 0.555288\n",
      "[2400]\tvalid_0's multi_logloss: 0.551226\n",
      "[2600]\tvalid_0's multi_logloss: 0.547469\n",
      "[2800]\tvalid_0's multi_logloss: 0.545519\n",
      "[3000]\tvalid_0's multi_logloss: 0.544119\n",
      "Did not meet early stopping. Best iteration is:\n",
      "[3000]\tvalid_0's multi_logloss: 0.544119\n",
      "[3 3 3 ... 3 4 3]\n",
      "Accuracy:  0.8253825382538253\n",
      "Confusion Matrix: \n",
      "[[  2   0   1   3   0   0]\n",
      " [  0   0   2   0   0   0]\n",
      " [  0   0 679  51  11   0]\n",
      " [  0   0  69 186  12   0]\n",
      " [  0   0  16  29  48   0]\n",
      " [  0   0   0   0   0   2]]\n",
      "Training until validation scores don't improve for 200 rounds\n",
      "[200]\tvalid_0's multi_logloss: 0.82986\n",
      "[400]\tvalid_0's multi_logloss: 0.72218\n",
      "[600]\tvalid_0's multi_logloss: 0.682079\n",
      "[800]\tvalid_0's multi_logloss: 0.659557\n",
      "[1000]\tvalid_0's multi_logloss: 0.644348\n",
      "[1200]\tvalid_0's multi_logloss: 0.632549\n",
      "[1400]\tvalid_0's multi_logloss: 0.623747\n",
      "[1600]\tvalid_0's multi_logloss: 0.619886\n",
      "[1800]\tvalid_0's multi_logloss: 0.614951\n",
      "[2000]\tvalid_0's multi_logloss: 0.613014\n",
      "[2200]\tvalid_0's multi_logloss: 0.610948\n",
      "[2400]\tvalid_0's multi_logloss: 0.610373\n",
      "[2600]\tvalid_0's multi_logloss: 0.610293\n",
      "Early stopping, best iteration is:\n",
      "[2498]\tvalid_0's multi_logloss: 0.609618\n",
      "[4 3 3 ... 3 3 3]\n",
      "Accuracy:  0.7837837837837838\n",
      "Confusion Matrix: \n",
      "[[  4   0   1   1   0   0]\n",
      " [  0   1   1   0   0   0]\n",
      " [  0   0 641  79  21   0]\n",
      " [  0   0  68 183  16   0]\n",
      " [  0   0  17  36  39   0]\n",
      " [  0   0   0   0   0   2]]\n",
      "Training until validation scores don't improve for 200 rounds\n",
      "[200]\tvalid_0's multi_logloss: 0.840985\n",
      "[400]\tvalid_0's multi_logloss: 0.729191\n",
      "[600]\tvalid_0's multi_logloss: 0.683941\n",
      "[800]\tvalid_0's multi_logloss: 0.657526\n",
      "[1000]\tvalid_0's multi_logloss: 0.639328\n",
      "[1200]\tvalid_0's multi_logloss: 0.627989\n",
      "[1400]\tvalid_0's multi_logloss: 0.619249\n",
      "[1600]\tvalid_0's multi_logloss: 0.611296\n",
      "[1800]\tvalid_0's multi_logloss: 0.605863\n",
      "[2000]\tvalid_0's multi_logloss: 0.601276\n",
      "[2200]\tvalid_0's multi_logloss: 0.596697\n",
      "[2400]\tvalid_0's multi_logloss: 0.593293\n",
      "[2600]\tvalid_0's multi_logloss: 0.59051\n",
      "[2800]\tvalid_0's multi_logloss: 0.589112\n",
      "[3000]\tvalid_0's multi_logloss: 0.588291\n",
      "Did not meet early stopping. Best iteration is:\n",
      "[2976]\tvalid_0's multi_logloss: 0.587807\n",
      "[3 3 4 ... 3 4 3]\n",
      "Accuracy:  0.8097385031559964\n",
      "Confusion Matrix: \n",
      "[[  3   0   3   0   0   0]\n",
      " [  0   0   2   0   0   0]\n",
      " [  0   0 669  68   4   0]\n",
      " [  0   0  74 182  11   0]\n",
      " [  0   0  20  29  43   0]\n",
      " [  0   0   0   0   0   1]]\n",
      "Training until validation scores don't improve for 200 rounds\n",
      "[200]\tvalid_0's multi_logloss: 0.837915\n",
      "[400]\tvalid_0's multi_logloss: 0.727855\n",
      "[600]\tvalid_0's multi_logloss: 0.688646\n",
      "[800]\tvalid_0's multi_logloss: 0.666223\n",
      "[1000]\tvalid_0's multi_logloss: 0.651144\n",
      "[1200]\tvalid_0's multi_logloss: 0.639848\n",
      "[1400]\tvalid_0's multi_logloss: 0.630488\n",
      "[1600]\tvalid_0's multi_logloss: 0.620855\n",
      "[1800]\tvalid_0's multi_logloss: 0.611747\n",
      "[2000]\tvalid_0's multi_logloss: 0.606334\n",
      "[2200]\tvalid_0's multi_logloss: 0.601542\n",
      "[2400]\tvalid_0's multi_logloss: 0.597605\n",
      "[2600]\tvalid_0's multi_logloss: 0.595656\n",
      "[2800]\tvalid_0's multi_logloss: 0.595272\n",
      "[3000]\tvalid_0's multi_logloss: 0.595178\n",
      "Did not meet early stopping. Best iteration is:\n",
      "[2923]\tvalid_0's multi_logloss: 0.594696\n",
      "[4 5 3 ... 3 5 4]\n",
      "Accuracy:  0.8034265103697025\n",
      "Confusion Matrix: \n",
      "[[  0   0   0   1   0   0   0]\n",
      " [  0   3   0   1   0   2   0]\n",
      " [  0   0   0   2   0   0   0]\n",
      " [  0   0   0 665  66  10   0]\n",
      " [  0   0   0  65 181  20   0]\n",
      " [  0   0   0  26  25  41   0]\n",
      " [  0   0   0   0   0   0   1]]\n",
      "Training until validation scores don't improve for 200 rounds\n",
      "[200]\tvalid_0's multi_logloss: 0.817771\n",
      "[400]\tvalid_0's multi_logloss: 0.702987\n",
      "[600]\tvalid_0's multi_logloss: 0.660964\n",
      "[800]\tvalid_0's multi_logloss: 0.636278\n",
      "[1000]\tvalid_0's multi_logloss: 0.620254\n",
      "[1200]\tvalid_0's multi_logloss: 0.607748\n",
      "[1400]\tvalid_0's multi_logloss: 0.599129\n",
      "[1600]\tvalid_0's multi_logloss: 0.591868\n",
      "[1800]\tvalid_0's multi_logloss: 0.585137\n",
      "[2000]\tvalid_0's multi_logloss: 0.580039\n",
      "[2200]\tvalid_0's multi_logloss: 0.577865\n",
      "[2400]\tvalid_0's multi_logloss: 0.576166\n",
      "[2600]\tvalid_0's multi_logloss: 0.576153\n",
      "Early stopping, best iteration is:\n",
      "[2489]\tvalid_0's multi_logloss: 0.575262\n",
      "[3 3 4 ... 4 3 3]\n",
      "Accuracy:  0.7976513098464318\n",
      "Confusion Matrix: \n",
      "[[  2   0   2   1   1   0]\n",
      " [  0   1   0   1   0   0]\n",
      " [  0   0 657  75   8   0]\n",
      " [  0   0  76 179  11   0]\n",
      " [  0   0  25  24  43   0]\n",
      " [  0   0   0   0   0   1]]\n",
      "Training until validation scores don't improve for 200 rounds\n",
      "[200]\tvalid_0's multi_logloss: 0.849823\n",
      "[400]\tvalid_0's multi_logloss: 0.735764\n",
      "[600]\tvalid_0's multi_logloss: 0.685619\n",
      "[800]\tvalid_0's multi_logloss: 0.655645\n",
      "[1000]\tvalid_0's multi_logloss: 0.633747\n",
      "[1200]\tvalid_0's multi_logloss: 0.617961\n",
      "[1400]\tvalid_0's multi_logloss: 0.607588\n",
      "[1600]\tvalid_0's multi_logloss: 0.598236\n",
      "[1800]\tvalid_0's multi_logloss: 0.589419\n",
      "[2000]\tvalid_0's multi_logloss: 0.582468\n",
      "[2200]\tvalid_0's multi_logloss: 0.578225\n",
      "[2400]\tvalid_0's multi_logloss: 0.573711\n",
      "[2600]\tvalid_0's multi_logloss: 0.569694\n",
      "[2800]\tvalid_0's multi_logloss: 0.566882\n",
      "[3000]\tvalid_0's multi_logloss: 0.565755\n",
      "Did not meet early stopping. Best iteration is:\n",
      "[2993]\tvalid_0's multi_logloss: 0.565614\n",
      "[3 4 3 ... 3 5 3]\n",
      "Accuracy:  0.8068592057761733\n",
      "Confusion Matrix: \n",
      "[[  1   0   0   0   0   0   0]\n",
      " [  0   3   0   2   1   0   0]\n",
      " [  0   0   0   2   0   0   0]\n",
      " [  0   0   0 663  65  12   0]\n",
      " [  0   2   0  69 183  12   0]\n",
      " [  0   0   0  16  33  43   0]\n",
      " [  0   0   0   0   0   0   1]]\n",
      "Training until validation scores don't improve for 200 rounds\n",
      "[200]\tvalid_0's multi_logloss: 0.830417\n",
      "[400]\tvalid_0's multi_logloss: 0.720551\n",
      "[600]\tvalid_0's multi_logloss: 0.678171\n",
      "[800]\tvalid_0's multi_logloss: 0.651355\n",
      "[1000]\tvalid_0's multi_logloss: 0.632487\n",
      "[1200]\tvalid_0's multi_logloss: 0.617757\n"
     ]
    },
    {
     "name": "stdout",
     "output_type": "stream",
     "text": [
      "[1400]\tvalid_0's multi_logloss: 0.605727\n",
      "[1600]\tvalid_0's multi_logloss: 0.596244\n",
      "[1800]\tvalid_0's multi_logloss: 0.586802\n",
      "[2000]\tvalid_0's multi_logloss: 0.580127\n",
      "[2200]\tvalid_0's multi_logloss: 0.574659\n",
      "[2400]\tvalid_0's multi_logloss: 0.569897\n",
      "[2600]\tvalid_0's multi_logloss: 0.566935\n",
      "[2800]\tvalid_0's multi_logloss: 0.565023\n",
      "[3000]\tvalid_0's multi_logloss: 0.563838\n",
      "Did not meet early stopping. Best iteration is:\n",
      "[2984]\tvalid_0's multi_logloss: 0.563399\n",
      "[5 4 3 ... 3 3 3]\n",
      "Accuracy:  0.7996389891696751\n",
      "Confusion Matrix: \n",
      "[[  1   0   0   0   0   0   0]\n",
      " [  0   3   0   2   1   0   0]\n",
      " [  0   0   0   2   0   0   0]\n",
      " [  0   1   0 655  70  14   0]\n",
      " [  0   0   0  66 186  14   0]\n",
      " [  0   0   0  22  30  40   0]\n",
      " [  0   0   0   0   0   0   1]]\n",
      "Training until validation scores don't improve for 200 rounds\n",
      "[200]\tvalid_0's multi_logloss: 0.820503\n",
      "[400]\tvalid_0's multi_logloss: 0.718624\n",
      "[600]\tvalid_0's multi_logloss: 0.683408\n",
      "[800]\tvalid_0's multi_logloss: 0.663288\n",
      "[1000]\tvalid_0's multi_logloss: 0.651873\n",
      "[1200]\tvalid_0's multi_logloss: 0.640844\n",
      "[1400]\tvalid_0's multi_logloss: 0.632954\n",
      "[1600]\tvalid_0's multi_logloss: 0.625881\n",
      "[1800]\tvalid_0's multi_logloss: 0.617835\n",
      "[2000]\tvalid_0's multi_logloss: 0.612694\n",
      "[2200]\tvalid_0's multi_logloss: 0.608593\n",
      "[2400]\tvalid_0's multi_logloss: 0.60638\n",
      "[2600]\tvalid_0's multi_logloss: 0.604716\n",
      "[2800]\tvalid_0's multi_logloss: 0.604687\n",
      "Early stopping, best iteration is:\n",
      "[2710]\tvalid_0's multi_logloss: 0.604071\n",
      "[3 3 3 ... 4 3 3]\n",
      "Accuracy:  0.8057813911472448\n",
      "Confusion Matrix: \n",
      "[[  2   0   1   3   0   0]\n",
      " [  0   0   2   0   0   0]\n",
      " [  0   0 673  58   9   0]\n",
      " [  0   0  71 176  19   0]\n",
      " [  0   0  22  29  41   0]\n",
      " [  0   0   0   1   0   0]]\n"
     ]
    }
   ],
   "source": [
    "accu=[]\n",
    "pred_list=[]\n",
    "from sklearn.model_selection import KFold,StratifiedKFold\n",
    "fold=StratifiedKFold(n_splits=10,shuffle=True,random_state=1994)\n",
    "i=1\n",
    "for train_index, test_index in fold.split(X,y):\n",
    "    X_train, X_test = X.iloc[train_index], X.iloc[test_index]\n",
    "    y_train, y_test = y[train_index], y[test_index]\n",
    "    X_train, y_train = ros.fit_resample(X_train, y_train)\n",
    "    m=LGBMClassifier(n_estimators=3000,random_state=1994,learning_rate=0.03,colsample_bytree=0.2,objective='multiclass', is_unbalance = 'true')\n",
    "    m.fit(X_train,y_train,eval_set=[(X_test, y_test)],eval_metric='multi_logloss', early_stopping_rounds=200,verbose=200)\n",
    "    preds=m.predict(X_test)\n",
    "    print(preds)\n",
    "    print(\"Accuracy: \",metrics.accuracy_score(y_test,preds))\n",
    "    print(\"Confusion Matrix: \")\n",
    "    print(metrics.confusion_matrix(y_test,preds))\n",
    "    accu.append(metrics.accuracy_score(y_test,preds))\n",
    "    pred_list.append(m.predict(test))\n"
   ]
  },
  {
   "cell_type": "code",
   "execution_count": 73,
   "metadata": {},
   "outputs": [],
   "source": [
    "pred_df = pd.DataFrame(pred_list)\n",
    "pred_df = pred_df.T"
   ]
  },
  {
   "cell_type": "code",
   "execution_count": 78,
   "metadata": {},
   "outputs": [],
   "source": [
    "# Submission File\n",
    "sub = pd.read_excel(\"Sample_Submission.xlsx\")"
   ]
  },
  {
   "cell_type": "code",
   "execution_count": 95,
   "metadata": {},
   "outputs": [
    {
     "name": "stdout",
     "output_type": "stream",
     "text": [
      "3    1969\n",
      "4     679\n",
      "5     120\n",
      "1       4\n",
      "6       1\n",
      "2       1\n",
      "Name: 0, dtype: int64\n",
      "3    2359\n",
      "4     312\n",
      "5      96\n",
      "1       4\n",
      "2       2\n",
      "6       1\n",
      "Name: 1, dtype: int64\n",
      "3    2039\n",
      "4     641\n",
      "5      87\n",
      "1       4\n",
      "2       2\n",
      "6       1\n",
      "Name: 2, dtype: int64\n",
      "3    1974\n",
      "4     657\n",
      "5     136\n",
      "1       4\n",
      "2       2\n",
      "6       1\n",
      "Name: 3, dtype: int64\n",
      "3    1948\n",
      "4     687\n",
      "5     132\n",
      "1       4\n",
      "2       2\n",
      "6       1\n",
      "Name: 4, dtype: int64\n",
      "3    2131\n",
      "4     534\n",
      "5     104\n",
      "1       3\n",
      "6       1\n",
      "2       1\n",
      "Name: 5, dtype: int64\n",
      "3    2150\n",
      "4     456\n",
      "5     160\n",
      "1       5\n",
      "2       2\n",
      "6       1\n",
      "Name: 6, dtype: int64\n",
      "3    1861\n",
      "4     781\n",
      "5     125\n",
      "1       4\n",
      "2       2\n",
      "6       1\n",
      "Name: 7, dtype: int64\n",
      "3    2174\n",
      "4     492\n",
      "5     101\n",
      "1       4\n",
      "2       2\n",
      "6       1\n",
      "Name: 8, dtype: int64\n",
      "3    1922\n",
      "4     686\n",
      "5     159\n",
      "1       4\n",
      "2       2\n",
      "6       1\n",
      "Name: 9, dtype: int64\n"
     ]
    }
   ],
   "source": [
    "#Saing the Prediction Results of Each Model.\n",
    "for i in range(10):\n",
    "    sub['Delivery_Time'] = label_encoder.inverse_transform(pred_df[i])\n",
    "    # Create a Pandas Excel writer using XlsxWriter as the engine.\n",
    "    writer = pd.ExcelWriter(\"ss\" + str(i) + \".xlsx\", engine='xlsxwriter')\n",
    "\n",
    "    # Convert the dataframe to an XlsxWriter Excel object.\n",
    "    sub.to_excel(writer, sheet_name='Sheet1')\n",
    "    \n",
    "    # Close the Pandas Excel writer and output the Excel file.\n",
    "    writer.save()\n",
    "    #sub.to_csv(\"ss\" + str(i) + \".csv\", index=False)"
   ]
  },
  {
   "cell_type": "code",
   "execution_count": 108,
   "metadata": {},
   "outputs": [],
   "source": [
    "# Hard merging of all the models.\n",
    "sub['Delivery_Time'] = label_encoder.inverse_transform(pred_df.apply(lambda x: x.mode()[0], axis=1))\n",
    "# Create a Pandas Excel writer using XlsxWriter as the engine.\n",
    "writer = pd.ExcelWriter(\"ss\" + str(10) + \".xlsx\", engine='xlsxwriter')\n",
    "\n",
    "# Convert the dataframe to an XlsxWriter Excel object.\n",
    "sub.to_excel(writer, sheet_name='Sheet1')\n",
    "\n",
    "# Close the Pandas Excel writer and output the Excel file.\n",
    "writer.save()"
   ]
  },
  {
   "cell_type": "code",
   "execution_count": null,
   "metadata": {},
   "outputs": [],
   "source": []
  }
 ],
 "metadata": {
  "kernelspec": {
   "display_name": "Python 3",
   "language": "python",
   "name": "python3"
  },
  "language_info": {
   "codemirror_mode": {
    "name": "ipython",
    "version": 3
   },
   "file_extension": ".py",
   "mimetype": "text/x-python",
   "name": "python",
   "nbconvert_exporter": "python",
   "pygments_lexer": "ipython3",
   "version": "3.7.3"
  }
 },
 "nbformat": 4,
 "nbformat_minor": 2
}
