{
 "cells": [
  {
   "cell_type": "code",
   "execution_count": 2,
   "metadata": {
    "scrolled": false
   },
   "outputs": [
    {
     "name": "stdout",
     "output_type": "stream",
     "text": [
      "Requirement already satisfied: pylint in c:\\users\\mohan\\anaconda3\\lib\\site-packages (2.3.1)\n",
      "Requirement already satisfied: astroid<3,>=2.2.0 in c:\\users\\mohan\\anaconda3\\lib\\site-packages (from pylint) (2.2.5)\n",
      "Requirement already satisfied: isort<5,>=4.2.5 in c:\\users\\mohan\\anaconda3\\lib\\site-packages (from pylint) (4.3.21)\n",
      "Requirement already satisfied: mccabe<0.7,>=0.6 in c:\\users\\mohan\\anaconda3\\lib\\site-packages (from pylint) (0.6.1)\n",
      "Requirement already satisfied: colorama in c:\\users\\mohan\\anaconda3\\lib\\site-packages (from pylint) (0.4.1)\n",
      "Collecting typed-ast>=1.3.0; implementation_name == \"cpython\" (from astroid<3,>=2.2.0->pylint)\n",
      "  Downloading https://files.pythonhosted.org/packages/47/a1/7a24868c15d84ed7446106d6c3d73807f58232a695452c0a29679e5a1523/typed_ast-1.4.0-cp37-cp37m-win_amd64.whl (155kB)\n",
      "Requirement already satisfied: wrapt in c:\\users\\mohan\\anaconda3\\lib\\site-packages (from astroid<3,>=2.2.0->pylint) (1.11.2)\n",
      "Requirement already satisfied: six in c:\\users\\mohan\\anaconda3\\lib\\site-packages (from astroid<3,>=2.2.0->pylint) (1.12.0)\n",
      "Requirement already satisfied: lazy-object-proxy in c:\\users\\mohan\\anaconda3\\lib\\site-packages (from astroid<3,>=2.2.0->pylint) (1.4.1)\n",
      "Installing collected packages: typed-ast\n",
      "Successfully installed typed-ast-1.4.0\n"
     ]
    }
   ],
   "source": [
    "!pip install pylint"
   ]
  },
  {
   "cell_type": "code",
   "execution_count": null,
   "metadata": {},
   "outputs": [],
   "source": [
    "!pip install category_encoders"
   ]
  },
  {
   "cell_type": "code",
   "execution_count": null,
   "metadata": {},
   "outputs": [],
   "source": []
  }
 ],
 "metadata": {
  "kernelspec": {
   "display_name": "Python 3",
   "language": "python",
   "name": "python3"
  },
  "language_info": {
   "codemirror_mode": {
    "name": "ipython",
    "version": 3
   },
   "file_extension": ".py",
   "mimetype": "text/x-python",
   "name": "python",
   "nbconvert_exporter": "python",
   "pygments_lexer": "ipython3",
   "version": "3.7.3"
  }
 },
 "nbformat": 4,
 "nbformat_minor": 2
}
